{
 "cells": [
  {
   "cell_type": "markdown",
   "source": [
    "### import dependencies"
   ],
   "metadata": {
    "collapsed": false
   }
  },
  {
   "cell_type": "code",
   "execution_count": 1,
   "outputs": [],
   "source": [
    "import h5py\n",
    "import numpy as np\n",
    "import pandas as pd\n",
    "from tkinter import *\n",
    "from tkinter import filedialog\n",
    "from tqdm import notebook\n",
    "import matplotlib.pyplot as plt\n"
   ],
   "metadata": {
    "collapsed": false
   }
  },
  {
   "cell_type": "markdown",
   "source": [
    "### gui pop-up for loading multiple h5 files at once"
   ],
   "metadata": {
    "collapsed": false
   }
  },
  {
   "cell_type": "code",
   "execution_count": 2,
   "outputs": [
    {
     "name": "stderr",
     "output_type": "stream",
     "text": [
      "2023-02-09 22:29:33.187 python[25938:877593] +[CATransaction synchronize] called within transaction\n"
     ]
    }
   ],
   "source": [
    "# Create Tk root\n",
    "root = Tk()\n",
    "# Hide the main window\n",
    "root.withdraw()\n",
    "root.call('wm', 'attributes', '.', '-topmost', True)\n",
    "h5_files = filedialog.askopenfilename(multiple=True, title='load facemap h5')\n",
    "\n",
    "%gui tk"
   ],
   "metadata": {
    "collapsed": false
   }
  },
  {
   "cell_type": "markdown",
   "source": [
    "### reorganize h5 format into dataframe"
   ],
   "metadata": {
    "collapsed": false
   }
  },
  {
   "cell_type": "code",
   "execution_count": 3,
   "outputs": [
    {
     "name": "stdout",
     "output_type": "stream",
     "text": [
      "==================================================\n",
      "working on file W4_020123_FacemapPose.h5...\n",
      "--------------------------------------------------\n",
      "going through all 15 keypoints...\n"
     ]
    },
    {
     "data": {
      "text/plain": "  0%|          | 0/15 [00:00<?, ?it/s]",
      "application/vnd.jupyter.widget-view+json": {
       "version_major": 2,
       "version_minor": 0,
       "model_id": "28ea39d5ccee4ff5b47d400494b50ed7"
      }
     },
     "metadata": {},
     "output_type": "display_data"
    },
    {
     "data": {
      "text/plain": "  0%|          | 0/401557 [00:00<?, ?it/s]",
      "application/vnd.jupyter.widget-view+json": {
       "version_major": 2,
       "version_minor": 0,
       "model_id": "3271264572134bfbada175f891048a6a"
      }
     },
     "metadata": {},
     "output_type": "display_data"
    },
    {
     "data": {
      "text/plain": "  0%|          | 0/401557 [00:00<?, ?it/s]",
      "application/vnd.jupyter.widget-view+json": {
       "version_major": 2,
       "version_minor": 0,
       "model_id": "cb9dc88b27344b9198995a9596907a99"
      }
     },
     "metadata": {},
     "output_type": "display_data"
    },
    {
     "data": {
      "text/plain": "  0%|          | 0/401557 [00:00<?, ?it/s]",
      "application/vnd.jupyter.widget-view+json": {
       "version_major": 2,
       "version_minor": 0,
       "model_id": "f05614b9c77f4099b72a2553592421fb"
      }
     },
     "metadata": {},
     "output_type": "display_data"
    },
    {
     "data": {
      "text/plain": "  0%|          | 0/401557 [00:00<?, ?it/s]",
      "application/vnd.jupyter.widget-view+json": {
       "version_major": 2,
       "version_minor": 0,
       "model_id": "35bf09586ea74e5d835fc975ea9a661f"
      }
     },
     "metadata": {},
     "output_type": "display_data"
    },
    {
     "data": {
      "text/plain": "  0%|          | 0/401557 [00:00<?, ?it/s]",
      "application/vnd.jupyter.widget-view+json": {
       "version_major": 2,
       "version_minor": 0,
       "model_id": "821cdde163004903a521b5c5f0691dd1"
      }
     },
     "metadata": {},
     "output_type": "display_data"
    },
    {
     "data": {
      "text/plain": "  0%|          | 0/401557 [00:00<?, ?it/s]",
      "application/vnd.jupyter.widget-view+json": {
       "version_major": 2,
       "version_minor": 0,
       "model_id": "fd0f9c98fbd3445d88771216bf48524d"
      }
     },
     "metadata": {},
     "output_type": "display_data"
    },
    {
     "data": {
      "text/plain": "  0%|          | 0/401557 [00:00<?, ?it/s]",
      "application/vnd.jupyter.widget-view+json": {
       "version_major": 2,
       "version_minor": 0,
       "model_id": "d8d1628b819541ca82a1722cc659b63b"
      }
     },
     "metadata": {},
     "output_type": "display_data"
    },
    {
     "data": {
      "text/plain": "  0%|          | 0/401557 [00:00<?, ?it/s]",
      "application/vnd.jupyter.widget-view+json": {
       "version_major": 2,
       "version_minor": 0,
       "model_id": "81ae973749e443e5a4623a35163bc134"
      }
     },
     "metadata": {},
     "output_type": "display_data"
    },
    {
     "data": {
      "text/plain": "  0%|          | 0/401557 [00:00<?, ?it/s]",
      "application/vnd.jupyter.widget-view+json": {
       "version_major": 2,
       "version_minor": 0,
       "model_id": "3fddbbba8f1340adbc0f807aa6ba70c0"
      }
     },
     "metadata": {},
     "output_type": "display_data"
    },
    {
     "data": {
      "text/plain": "  0%|          | 0/401557 [00:00<?, ?it/s]",
      "application/vnd.jupyter.widget-view+json": {
       "version_major": 2,
       "version_minor": 0,
       "model_id": "7c63efb6e2504e3588a6ff5bbd6f990a"
      }
     },
     "metadata": {},
     "output_type": "display_data"
    },
    {
     "data": {
      "text/plain": "  0%|          | 0/401557 [00:00<?, ?it/s]",
      "application/vnd.jupyter.widget-view+json": {
       "version_major": 2,
       "version_minor": 0,
       "model_id": "7dd8f47926e543328a97d71c42f06ac6"
      }
     },
     "metadata": {},
     "output_type": "display_data"
    },
    {
     "data": {
      "text/plain": "  0%|          | 0/401557 [00:00<?, ?it/s]",
      "application/vnd.jupyter.widget-view+json": {
       "version_major": 2,
       "version_minor": 0,
       "model_id": "ff09df9f3ac4424d8858da1588e7733a"
      }
     },
     "metadata": {},
     "output_type": "display_data"
    },
    {
     "data": {
      "text/plain": "  0%|          | 0/401557 [00:00<?, ?it/s]",
      "application/vnd.jupyter.widget-view+json": {
       "version_major": 2,
       "version_minor": 0,
       "model_id": "4dd2cd6dbb17451d916f25b6cbf52bbf"
      }
     },
     "metadata": {},
     "output_type": "display_data"
    },
    {
     "data": {
      "text/plain": "  0%|          | 0/401557 [00:00<?, ?it/s]",
      "application/vnd.jupyter.widget-view+json": {
       "version_major": 2,
       "version_minor": 0,
       "model_id": "7c93570bb7fa477b8485e8e0471705c7"
      }
     },
     "metadata": {},
     "output_type": "display_data"
    },
    {
     "data": {
      "text/plain": "  0%|          | 0/401557 [00:00<?, ?it/s]",
      "application/vnd.jupyter.widget-view+json": {
       "version_major": 2,
       "version_minor": 0,
       "model_id": "60115895bfc3450e9f27a9b7e3e63d97"
      }
     },
     "metadata": {},
     "output_type": "display_data"
    }
   ],
   "source": [
    "# initialize a list for storing all dataframes\n",
    "data_dicts = []\n",
    "selected_fnames = [h5_files[i].rpartition(\"/\")[2] for i in range(len(h5_files))]\n",
    "# for each h5 file you uploaded\n",
    "for f, h5_file in enumerate(h5_files):\n",
    "    print(50*'=')\n",
    "    print(f'working on file {selected_fnames[f]}...')\n",
    "    h5_df = h5py.File(h5_file, 'r')\n",
    "    # create a dictionary for organization\n",
    "    data_dict_bps = dict()\n",
    "    # iterate through body parts, total was 15 keypoints\n",
    "    keypoint_num = len(h5_df['Facemap'].keys())\n",
    "    print(50*'-')\n",
    "    print(f'going through all {keypoint_num} keypoints...')\n",
    "    for bodypart in notebook.tqdm(h5_df['Facemap'].keys()):\n",
    "        # iterate through frames\n",
    "        data_dict_bp = dict()\n",
    "        for frame in notebook.tqdm(range(len(h5_df['Facemap'][bodypart]['x']))):\n",
    "            data_dict_bp[frame] = {'frame': frame,\n",
    "                                'key': bodypart,\n",
    "                                'x': h5_df['Facemap'][bodypart]['x'][frame],\n",
    "                                'y': h5_df['Facemap'][bodypart]['y'][frame],\n",
    "                                'likelihood': h5_df['Facemap'][bodypart]['likelihood'][frame]}\n",
    "        data_dict_bps[bodypart] = data_dict_bp\n",
    "    # convert into dataframe for future use\n",
    "    data_dicts.append(data_dict_bps)"
   ],
   "metadata": {
    "collapsed": false
   }
  },
  {
   "cell_type": "markdown",
   "source": [
    "### save dataframes as csv"
   ],
   "metadata": {
    "collapsed": false
   }
  },
  {
   "cell_type": "code",
   "execution_count": null,
   "outputs": [
    {
     "data": {
      "text/plain": "  0%|          | 0/15 [00:00<?, ?it/s]",
      "application/vnd.jupyter.widget-view+json": {
       "version_major": 2,
       "version_minor": 0,
       "model_id": "0720484edc604a4c82a93102db41047f"
      }
     },
     "metadata": {},
     "output_type": "display_data"
    }
   ],
   "source": [
    "for f in range(len(data_dicts)):\n",
    "    for bodypart in notebook.tqdm(h5_df['Facemap'].keys()):\n",
    "        keypoint_df = pd.DataFrame(data=data_dicts[f][bodypart])\n",
    "        keypoint_df.to_csv(f'../temp/{selected_fnames[f]}-{bodypart}.csv', header=None)"
   ],
   "metadata": {
    "collapsed": false,
    "pycharm": {
     "is_executing": true
    }
   }
  },
  {
   "cell_type": "code",
   "execution_count": 4,
   "outputs": [
    {
     "data": {
      "text/plain": "  0%|          | 0/15 [00:00<?, ?it/s]",
      "application/vnd.jupyter.widget-view+json": {
       "version_major": 2,
       "version_minor": 0,
       "model_id": "74bf19a80e6445ef991350bfcec042ff"
      }
     },
     "metadata": {},
     "output_type": "display_data"
    }
   ],
   "source": [
    "disp_bps = dict()\n",
    "for bodypart in notebook.tqdm(h5_df['Facemap'].keys()):\n",
    "    data_len = len(data_dicts[0][bodypart])\n",
    "    disp_bp = []\n",
    "    for r in range(data_len-1):\n",
    "        disp_bp.append(\n",
    "            np.linalg.norm(\n",
    "                np.array([data_dicts[0][bodypart][r+1]['x'],\n",
    "                          data_dicts[0][bodypart][r+1]['y']]) -\n",
    "                np.array([data_dicts[0][bodypart][r]['x'],\n",
    "                          data_dicts[0][bodypart][r]['y']])\n",
    "            )\n",
    "        )\n",
    "    disp_bps[bodypart] = np.hstack(disp_bp)"
   ],
   "metadata": {
    "collapsed": false
   }
  },
  {
   "cell_type": "markdown",
   "source": [
    "### plot displacement per keypoint"
   ],
   "metadata": {
    "collapsed": false
   }
  },
  {
   "cell_type": "code",
   "execution_count": 7,
   "outputs": [
    {
     "data": {
      "text/plain": "dict_keys(['eye(back)', 'eye(bottom)', 'eye(front)', 'eye(top)', 'lowerlip', 'mouth', 'nose(bottom)', 'nose(r)', 'nose(tip)', 'nose(top)', 'nosebridge', 'paw', 'whisker(I)', 'whisker(II)', 'whisker(III)'])"
     },
     "execution_count": 7,
     "metadata": {},
     "output_type": "execute_result"
    }
   ],
   "source": [
    "# list out all keypoints\n",
    "disp_bps.keys()"
   ],
   "metadata": {
    "collapsed": false
   }
  },
  {
   "cell_type": "code",
   "execution_count": 14,
   "outputs": [
    {
     "data": {
      "text/plain": "Text(0.5, 0, 'frame #')"
     },
     "execution_count": 13,
     "metadata": {},
     "output_type": "execute_result"
    },
    {
     "data": {
      "text/plain": "<Figure size 640x480 with 1 Axes>",
      "image/png": "[encoded data removed]"
     },
     "metadata": {},
     "output_type": "display_data"
    },
    {
     "data": {
      "text/plain": "Text(0.5, 0, 'frame #')"
     },
     "execution_count": 14,
     "metadata": {},
     "output_type": "execute_result"
    },
    {
     "data": {
      "text/plain": "<Figure size 640x480 with 1 Axes>",
      "image/png": "[encoded data removed]"
     },
     "metadata": {},
     "output_type": "display_data"
    }
   ],
   "source": [
    "# select a file index\n",
    "file_idx = 0\n",
    "# create a 3x5 keypoint plot\n",
    "rows = 3\n",
    "cols = 5\n",
    "count = 0\n",
    "fig, ax = plt.subplots(rows, cols, figsize=(16, 14))\n",
    "for row in range(rows):\n",
    "    for col in range(cols):\n",
    "        mean_disp = np.mean(disp_bps[disp_bps.keys()[count]])\n",
    "        std_disp = np.std(disp_bps[disp_bps.keys()[count]])\n",
    "        ax[row, col].set_title(disp_bps.keys()[count])\n",
    "        ax[row, col].plot(disp_bps[disp_bps.keys()[count]], color='k')\n",
    "        ax[row, col].hlines(mean_disp, 0, len(disp_bps[disp_bps.keys()[count]]), ls='--', color='k')\n",
    "        ax[row, col].text(len(disp_bps[disp_bps.keys()[count]]), (mean_disp)*1, 'mean')\n",
    "        ax[row, col].hlines(mean_disp+3*std_disp, 0, len(disp_bps[disp_bps.keys()[count]]), ls='--', color='r')\n",
    "        ax[row, col].text(len(disp_bps[disp_bps.keys()[count]]), (mean_disp+3*std_disp)*1, '3 stdev above mean')\n",
    "        ax[row, col].set_ylabel('$\\Delta$ pixel')\n",
    "        ax[row, col].set_xlabel('frame #')\n",
    "        count += 1\n"
   ],
   "metadata": {
    "collapsed": false
   }
  }
 ],
 "metadata": {
  "kernelspec": {
   "display_name": "Python 3",
   "language": "python",
   "name": "python3"
  },
  "language_info": {
   "codemirror_mode": {
    "name": "ipython",
    "version": 2
   },
   "file_extension": ".py",
   "mimetype": "text/x-python",
   "name": "python",
   "nbconvert_exporter": "python",
   "pygments_lexer": "ipython2",
   "version": "2.7.6"
  }
 },
 "nbformat": 4,
 "nbformat_minor": 0
}
